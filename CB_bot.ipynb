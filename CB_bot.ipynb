{
 "cells": [
  {
   "cell_type": "code",
   "execution_count": 1,
   "metadata": {},
   "outputs": [
    {
     "name": "stdout",
     "output_type": "stream",
     "text": [
      "UDST vs. BRL\n",
      "BOT BY vitorgamer58\n",
      "{'symbol': 'USDTBRL', '24hrHigh': '4.210', 'last': '4.210', '24hrVol': '119.38', 'ask': '4.31', '24hrLow': '4.210', 'bid': '4.21', '24hrAmt': '502.589'}\n"
     ]
    }
   ],
   "source": [
    "import bot as bot\n",
    "\n",
    "print('UDST vs. BRL')\n",
    "print('BOT BY vitorgamer58')\n",
    "print(bot.get_ticker('USDTBRL'))"
   ]
  },
  {
   "cell_type": "code",
   "execution_count": 2,
   "metadata": {
    "scrolled": true
   },
   "outputs": [
    {
     "name": "stdout",
     "output_type": "stream",
     "text": [
      "4.21\n",
      "Não compre\n",
      "Não compre\n",
      "Não compre\n",
      "compre\n"
     ]
    }
   ],
   "source": [
    "USDTBRL = bot.get_ticker('USDTBRL')\n",
    "\n",
    "lastPrice = float(USDTBRL['last'])\n",
    "print(lastPrice)\n",
    "\n",
    "while lastPrice > 4.00:\n",
    "    print('Não compre')\n",
    "    lastPrice = lastPrice - 0.10\n",
    "else:\n",
    "    print('compre')\n"
   ]
  },
  {
   "cell_type": "code",
   "execution_count": 3,
   "metadata": {},
   "outputs": [
    {
     "name": "stdout",
     "output_type": "stream",
     "text": [
      "{'symbol': 'USDTBRL', 'orderbook': {'bids': [{'quantity': 7.9, 'price': 4.21}, {'quantity': 1000.33, 'price': 4.16}, {'quantity': 4014.37, 'price': 3.83}, {'quantity': 4800, 'price': 3.82}, {'quantity': 4000, 'price': 3.81}, {'quantity': 41688.9, 'price': 3.15}, {'quantity': 22007.6, 'price': 2.48}, {'quantity': 15046.24, 'price': 2.18}, {'quantity': 48470.41, 'price': 2.05}], 'asks': [{'quantity': 168.03, 'price': 4.31}, {'quantity': 14957.5, 'price': 5.25}, {'quantity': 113.84, 'price': 5.316}, {'quantity': 22436.25, 'price': 5.45}, {'quantity': 22436.25, 'price': 6.25}]}, 'status': 'ok', 'timestamp': 1570504909529}\n"
     ]
    }
   ],
   "source": [
    "print(bot.get_orderbook('USDTBRL'))"
   ]
  },
  {
   "cell_type": "code",
   "execution_count": 2,
   "metadata": {},
   "outputs": [
    {
     "data": {
      "text/plain": [
       "({'description': \"JSON parse error: Unrecognized token 'apiid': was expecting ('true', 'false' or 'null'); nested exception is com.fasterxml.jackson.core.JsonParseException: Unrecognized token 'apiid': was expecting ('true', 'false' or 'null')\\n at [Source: java.io.PushbackInputStream@a9bbe89; line: 1, column: 7]\",\n",
       "  'status': 'error',\n",
       "  'timestamp': 1570505118426},\n",
       " {'apiid': 'e4ded97f572ac6307616c1067657a531',\n",
       "  'price': '4.01',\n",
       "  'quantity': '1',\n",
       "  'symbol': 'BTCUSDT',\n",
       "  'type': 'sell-limit',\n",
       "  'timestamp': 1570465518240,\n",
       "  'sign': '674f3ad9e62337d6ee11698884f68635'},\n",
       " {'Date': 'Tue, 08 Oct 2019 03:25:18 GMT', 'Content-Type': 'application/json;charset=UTF-8', 'Transfer-Encoding': 'chunked', 'Connection': 'keep-alive', 'Set-Cookie': '__cfduid=d4b2b00dab667b1275e464ee68b11f7321570505118; expires=Wed, 07-Oct-20 03:25:18 GMT; path=/; domain=.coinbene.com; HttpOnly, acw_tc=0bc1a90415705051184231119e7e112455d4f2380ca37acbf12058c4a0bb98;path=/;HttpOnly;Max-Age=1800', 'X-Application-Context': 'exchange-openapi:prod:8601', 'CF-Cache-Status': 'DYNAMIC', 'Expect-CT': 'max-age=604800, report-uri=\"https://report-uri.cloudflare.com/cdn-cgi/beacon/expect-ct\"', 'Server': 'cloudflare', 'CF-RAY': '522501bd793e4ba3-GRU'})"
      ]
     },
     "execution_count": 2,
     "metadata": {},
     "output_type": "execute_result"
    }
   ],
   "source": [
    "bot.limit_order('sell', '1', '4.01', 'BTCUSDT')"
   ]
  },
  {
   "cell_type": "code",
   "execution_count": 2,
   "metadata": {},
   "outputs": [
    {
     "name": "stdout",
     "output_type": "stream",
     "text": [
      "{'account': 'exchange', 'apiid': 'e4ded97f572ac6307616c1067657a531', 'timestamp': 1570465581394, 'sign': '0ec9bb959dbc0af17ec8f3761e02995d'}\n"
     ]
    },
    {
     "data": {
      "text/plain": [
       "{'description': \"JSON parse error: Unrecognized token 'account': was expecting ('true', 'false' or 'null'); nested exception is com.fasterxml.jackson.core.JsonParseException: Unrecognized token 'account': was expecting ('true', 'false' or 'null')\\n at [Source: java.io.PushbackInputStream@42ee04a9; line: 1, column: 9]\",\n",
       " 'status': 'error',\n",
       " 'timestamp': 1570505181752}"
      ]
     },
     "execution_count": 2,
     "metadata": {},
     "output_type": "execute_result"
    }
   ],
   "source": [
    "bot.get_balance()"
   ]
  },
  {
   "cell_type": "code",
   "execution_count": 10,
   "metadata": {},
   "outputs": [
    {
     "ename": "NameError",
     "evalue": "name 'r' is not defined",
     "output_type": "error",
     "traceback": [
      "\u001b[1;31m---------------------------------------------------------------------------\u001b[0m",
      "\u001b[1;31mNameError\u001b[0m                                 Traceback (most recent call last)",
      "\u001b[1;32m<ipython-input-10-13e5847e3224>\u001b[0m in \u001b[0;36m<module>\u001b[1;34m\u001b[0m\n\u001b[1;32m----> 1\u001b[1;33m \u001b[0mr\u001b[0m\u001b[1;33m.\u001b[0m\u001b[0mencoding\u001b[0m\u001b[1;33m\u001b[0m\u001b[1;33m\u001b[0m\u001b[0m\n\u001b[0m",
      "\u001b[1;31mNameError\u001b[0m: name 'r' is not defined"
     ]
    }
   ],
   "source": []
  },
  {
   "cell_type": "code",
   "execution_count": null,
   "metadata": {},
   "outputs": [],
   "source": []
  }
 ],
 "metadata": {
  "kernelspec": {
   "display_name": "Python 3",
   "language": "python",
   "name": "python3"
  },
  "language_info": {
   "codemirror_mode": {
    "name": "ipython",
    "version": 3
   },
   "file_extension": ".py",
   "mimetype": "text/x-python",
   "name": "python",
   "nbconvert_exporter": "python",
   "pygments_lexer": "ipython3",
   "version": "3.7.4"
  }
 },
 "nbformat": 4,
 "nbformat_minor": 2
}
